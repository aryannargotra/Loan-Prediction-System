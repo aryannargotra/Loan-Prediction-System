{
 "cells": [
  {
   "cell_type": "code",
   "execution_count": 1,
   "id": "202762a4",
   "metadata": {},
   "outputs": [],
   "source": [
    "import pandas as pd\n",
    "import numpy as np\n",
    "import seaborn as sns\n",
    "\n",
    "from sklearn.model_selection import train_test_split,RandomizedSearchCV\n",
    "from sklearn.preprocessing import StandardScaler\n",
    "from sklearn.svm import SVC\n",
    "from sklearn.tree import DecisionTreeClassifier\n",
    "from sklearn.ensemble import RandomForestClassifier, GradientBoostingClassifier\n",
    "from sklearn.metrics import accuracy_score, roc_auc_score\n",
    "from sklearn.linear_model import LogisticRegression\n",
    "from sklearn.model_selection import GridSearchCV\n",
    "from sklearn import metrics\n",
    "\n",
    "import matplotlib.pyplot as plt\n",
    "%matplotlib inline\n",
    "\n"
   ]
  },
  {
   "cell_type": "code",
   "execution_count": 2,
   "id": "40390a33",
   "metadata": {},
   "outputs": [],
   "source": [
    "df_2 = pd.read_csv(r'C:\\Users\\aryan\\Downloads\\data\\df.csv')"
   ]
  },
  {
   "cell_type": "code",
   "execution_count": 3,
   "id": "f5c97951",
   "metadata": {},
   "outputs": [
    {
     "data": {
      "text/html": [
       "<div>\n",
       "<style scoped>\n",
       "    .dataframe tbody tr th:only-of-type {\n",
       "        vertical-align: middle;\n",
       "    }\n",
       "\n",
       "    .dataframe tbody tr th {\n",
       "        vertical-align: top;\n",
       "    }\n",
       "\n",
       "    .dataframe thead th {\n",
       "        text-align: right;\n",
       "    }\n",
       "</style>\n",
       "<table border=\"1\" class=\"dataframe\">\n",
       "  <thead>\n",
       "    <tr style=\"text-align: right;\">\n",
       "      <th></th>\n",
       "      <th>Unnamed: 0</th>\n",
       "      <th>Months_loan_taken_for</th>\n",
       "      <th>Principal_loan_amount</th>\n",
       "      <th>EMI_rate_in_percentage_of_disposable_income</th>\n",
       "      <th>Number_of_existing_loans_at_this_bank</th>\n",
       "      <th>high_risk_applicant</th>\n",
       "      <th>Primary_applicant_age_in_years</th>\n",
       "      <th>Number_of_dependents</th>\n",
       "      <th>Years_at_current_residence</th>\n",
       "      <th>Balance_in_existing_bank_account_(lower_limit_of_bucket)</th>\n",
       "      <th>...</th>\n",
       "      <th>Savings_account_balance_Very high</th>\n",
       "      <th>Loan_history_all loans at this bank paid back duly.1</th>\n",
       "      <th>Loan_history_critical/pending loans at other banks.1</th>\n",
       "      <th>Loan_history_delay in paying off loans in the past.1</th>\n",
       "      <th>Loan_history_existing loans paid back duly till now.1</th>\n",
       "      <th>Loan_history_no loans taken/all loans paid back duly.1</th>\n",
       "      <th>Has_been_employed_for_at_least_0 year</th>\n",
       "      <th>Has_been_employed_for_at_least_1 year</th>\n",
       "      <th>Has_been_employed_for_at_least_4 years</th>\n",
       "      <th>Has_been_employed_for_at_least_7 years</th>\n",
       "    </tr>\n",
       "  </thead>\n",
       "  <tbody>\n",
       "    <tr>\n",
       "      <th>0</th>\n",
       "      <td>0</td>\n",
       "      <td>6</td>\n",
       "      <td>1169000</td>\n",
       "      <td>4</td>\n",
       "      <td>2</td>\n",
       "      <td>0</td>\n",
       "      <td>67</td>\n",
       "      <td>1</td>\n",
       "      <td>4</td>\n",
       "      <td>0</td>\n",
       "      <td>...</td>\n",
       "      <td>0</td>\n",
       "      <td>0</td>\n",
       "      <td>1</td>\n",
       "      <td>0</td>\n",
       "      <td>0</td>\n",
       "      <td>0</td>\n",
       "      <td>0</td>\n",
       "      <td>0</td>\n",
       "      <td>0</td>\n",
       "      <td>1</td>\n",
       "    </tr>\n",
       "    <tr>\n",
       "      <th>1</th>\n",
       "      <td>1</td>\n",
       "      <td>48</td>\n",
       "      <td>5951000</td>\n",
       "      <td>2</td>\n",
       "      <td>1</td>\n",
       "      <td>1</td>\n",
       "      <td>22</td>\n",
       "      <td>1</td>\n",
       "      <td>2</td>\n",
       "      <td>0</td>\n",
       "      <td>...</td>\n",
       "      <td>0</td>\n",
       "      <td>0</td>\n",
       "      <td>0</td>\n",
       "      <td>0</td>\n",
       "      <td>1</td>\n",
       "      <td>0</td>\n",
       "      <td>0</td>\n",
       "      <td>1</td>\n",
       "      <td>0</td>\n",
       "      <td>0</td>\n",
       "    </tr>\n",
       "    <tr>\n",
       "      <th>2</th>\n",
       "      <td>2</td>\n",
       "      <td>12</td>\n",
       "      <td>2096000</td>\n",
       "      <td>2</td>\n",
       "      <td>1</td>\n",
       "      <td>0</td>\n",
       "      <td>49</td>\n",
       "      <td>2</td>\n",
       "      <td>3</td>\n",
       "      <td>0</td>\n",
       "      <td>...</td>\n",
       "      <td>0</td>\n",
       "      <td>0</td>\n",
       "      <td>1</td>\n",
       "      <td>0</td>\n",
       "      <td>0</td>\n",
       "      <td>0</td>\n",
       "      <td>0</td>\n",
       "      <td>0</td>\n",
       "      <td>1</td>\n",
       "      <td>0</td>\n",
       "    </tr>\n",
       "    <tr>\n",
       "      <th>3</th>\n",
       "      <td>3</td>\n",
       "      <td>42</td>\n",
       "      <td>7882000</td>\n",
       "      <td>2</td>\n",
       "      <td>1</td>\n",
       "      <td>0</td>\n",
       "      <td>45</td>\n",
       "      <td>2</td>\n",
       "      <td>4</td>\n",
       "      <td>0</td>\n",
       "      <td>...</td>\n",
       "      <td>0</td>\n",
       "      <td>0</td>\n",
       "      <td>0</td>\n",
       "      <td>0</td>\n",
       "      <td>1</td>\n",
       "      <td>0</td>\n",
       "      <td>0</td>\n",
       "      <td>0</td>\n",
       "      <td>1</td>\n",
       "      <td>0</td>\n",
       "    </tr>\n",
       "    <tr>\n",
       "      <th>4</th>\n",
       "      <td>4</td>\n",
       "      <td>24</td>\n",
       "      <td>4870000</td>\n",
       "      <td>3</td>\n",
       "      <td>2</td>\n",
       "      <td>1</td>\n",
       "      <td>53</td>\n",
       "      <td>2</td>\n",
       "      <td>4</td>\n",
       "      <td>0</td>\n",
       "      <td>...</td>\n",
       "      <td>0</td>\n",
       "      <td>0</td>\n",
       "      <td>0</td>\n",
       "      <td>1</td>\n",
       "      <td>0</td>\n",
       "      <td>0</td>\n",
       "      <td>0</td>\n",
       "      <td>1</td>\n",
       "      <td>0</td>\n",
       "      <td>0</td>\n",
       "    </tr>\n",
       "  </tbody>\n",
       "</table>\n",
       "<p>5 rows × 54 columns</p>\n",
       "</div>"
      ],
      "text/plain": [
       "   Unnamed: 0  Months_loan_taken_for  Principal_loan_amount  \\\n",
       "0           0                      6                1169000   \n",
       "1           1                     48                5951000   \n",
       "2           2                     12                2096000   \n",
       "3           3                     42                7882000   \n",
       "4           4                     24                4870000   \n",
       "\n",
       "   EMI_rate_in_percentage_of_disposable_income  \\\n",
       "0                                            4   \n",
       "1                                            2   \n",
       "2                                            2   \n",
       "3                                            2   \n",
       "4                                            3   \n",
       "\n",
       "   Number_of_existing_loans_at_this_bank  high_risk_applicant  \\\n",
       "0                                      2                    0   \n",
       "1                                      1                    1   \n",
       "2                                      1                    0   \n",
       "3                                      1                    0   \n",
       "4                                      2                    1   \n",
       "\n",
       "   Primary_applicant_age_in_years  Number_of_dependents  \\\n",
       "0                              67                     1   \n",
       "1                              22                     1   \n",
       "2                              49                     2   \n",
       "3                              45                     2   \n",
       "4                              53                     2   \n",
       "\n",
       "   Years_at_current_residence  \\\n",
       "0                           4   \n",
       "1                           2   \n",
       "2                           3   \n",
       "3                           4   \n",
       "4                           4   \n",
       "\n",
       "   Balance_in_existing_bank_account_(lower_limit_of_bucket)  ...  \\\n",
       "0                                                  0         ...   \n",
       "1                                                  0         ...   \n",
       "2                                                  0         ...   \n",
       "3                                                  0         ...   \n",
       "4                                                  0         ...   \n",
       "\n",
       "   Savings_account_balance_Very high  \\\n",
       "0                                  0   \n",
       "1                                  0   \n",
       "2                                  0   \n",
       "3                                  0   \n",
       "4                                  0   \n",
       "\n",
       "   Loan_history_all loans at this bank paid back duly.1  \\\n",
       "0                                                  0      \n",
       "1                                                  0      \n",
       "2                                                  0      \n",
       "3                                                  0      \n",
       "4                                                  0      \n",
       "\n",
       "   Loan_history_critical/pending loans at other banks.1  \\\n",
       "0                                                  1      \n",
       "1                                                  0      \n",
       "2                                                  1      \n",
       "3                                                  0      \n",
       "4                                                  0      \n",
       "\n",
       "   Loan_history_delay in paying off loans in the past.1  \\\n",
       "0                                                  0      \n",
       "1                                                  0      \n",
       "2                                                  0      \n",
       "3                                                  0      \n",
       "4                                                  1      \n",
       "\n",
       "   Loan_history_existing loans paid back duly till now.1  \\\n",
       "0                                                  0       \n",
       "1                                                  1       \n",
       "2                                                  0       \n",
       "3                                                  1       \n",
       "4                                                  0       \n",
       "\n",
       "   Loan_history_no loans taken/all loans paid back duly.1  \\\n",
       "0                                                  0        \n",
       "1                                                  0        \n",
       "2                                                  0        \n",
       "3                                                  0        \n",
       "4                                                  0        \n",
       "\n",
       "   Has_been_employed_for_at_least_0 year  \\\n",
       "0                                      0   \n",
       "1                                      0   \n",
       "2                                      0   \n",
       "3                                      0   \n",
       "4                                      0   \n",
       "\n",
       "   Has_been_employed_for_at_least_1 year  \\\n",
       "0                                      0   \n",
       "1                                      1   \n",
       "2                                      0   \n",
       "3                                      0   \n",
       "4                                      1   \n",
       "\n",
       "   Has_been_employed_for_at_least_4 years  \\\n",
       "0                                       0   \n",
       "1                                       0   \n",
       "2                                       1   \n",
       "3                                       1   \n",
       "4                                       0   \n",
       "\n",
       "   Has_been_employed_for_at_least_7 years  \n",
       "0                                       1  \n",
       "1                                       0  \n",
       "2                                       0  \n",
       "3                                       0  \n",
       "4                                       0  \n",
       "\n",
       "[5 rows x 54 columns]"
      ]
     },
     "execution_count": 3,
     "metadata": {},
     "output_type": "execute_result"
    }
   ],
   "source": [
    "df_2.head()"
   ]
  },
  {
   "cell_type": "markdown",
   "id": "9e708dbe",
   "metadata": {},
   "source": [
    "column_header = list(df_2.columns)\n",
    "column_header"
   ]
  },
  {
   "cell_type": "markdown",
   "id": "f9a5d6bc",
   "metadata": {},
   "source": [
    "### Now all columns are numeric, we fit a Standard Scaler to normalize the numeric variables"
   ]
  },
  {
   "cell_type": "code",
   "execution_count": 4,
   "id": "3f339c2f",
   "metadata": {},
   "outputs": [],
   "source": [
    "standardScaler = StandardScaler()\n",
    "columns_to_scale = ['Principal_loan_amount','Months_loan_taken_for',\n",
    "                   'EMI_rate_in_percentage_of_disposable_income',\n",
    "                   'Primary_applicant_age_in_years',\n",
    "                    'Number_of_dependents',\n",
    "                    'Years_at_current_residence']\n",
    "df_2[columns_to_scale]= standardScaler.fit_transform(df_2[columns_to_scale])"
   ]
  },
  {
   "cell_type": "code",
   "execution_count": 5,
   "id": "c4d2925b",
   "metadata": {},
   "outputs": [
    {
     "data": {
      "text/plain": [
       "['Unnamed: 0',\n",
       " 'Months_loan_taken_for',\n",
       " 'Principal_loan_amount',\n",
       " 'EMI_rate_in_percentage_of_disposable_income',\n",
       " 'Number_of_existing_loans_at_this_bank',\n",
       " 'high_risk_applicant',\n",
       " 'Primary_applicant_age_in_years',\n",
       " 'Number_of_dependents',\n",
       " 'Years_at_current_residence',\n",
       " 'Balance_in_existing_bank_account_(lower_limit_of_bucket)',\n",
       " 'Balance_in_existing_bank_account_(upper_limit_of_bucket)',\n",
       " 'Gender_female',\n",
       " 'Gender_male',\n",
       " 'Purpose_FF&E',\n",
       " 'Purpose_business',\n",
       " 'Purpose_career development',\n",
       " 'Purpose_domestic appliances',\n",
       " 'Purpose_education',\n",
       " 'Purpose_electronic equipment',\n",
       " 'Purpose_new vehicle',\n",
       " 'Purpose_repair costs',\n",
       " 'Purpose_used vehicle',\n",
       " 'Marital_status_divorced/separated',\n",
       " 'Marital_status_divorced/separated/married',\n",
       " 'Marital_status_married/widowed',\n",
       " 'Marital_status_single',\n",
       " 'Property_building society savings agreement/life insurance',\n",
       " 'Property_car or other',\n",
       " 'Property_real estate',\n",
       " 'Loan_history_all loans at this bank paid back duly',\n",
       " 'Loan_history_critical/pending loans at other banks',\n",
       " 'Loan_history_delay in paying off loans in the past',\n",
       " 'Loan_history_existing loans paid back duly till now',\n",
       " 'Loan_history_no loans taken/all loans paid back duly',\n",
       " 'Housing_for free',\n",
       " 'Housing_own',\n",
       " 'Housing_rent',\n",
       " 'Employment_status_management / self-employed / highly qualified employee / officer',\n",
       " 'Employment_status_skilled employee / official',\n",
       " 'Employment_status_unemployed / unskilled - non-resident',\n",
       " 'Employment_status_unskilled - resident',\n",
       " 'Savings_account_balance_High',\n",
       " 'Savings_account_balance_Low',\n",
       " 'Savings_account_balance_Medium',\n",
       " 'Savings_account_balance_Very high',\n",
       " 'Loan_history_all loans at this bank paid back duly.1',\n",
       " 'Loan_history_critical/pending loans at other banks.1',\n",
       " 'Loan_history_delay in paying off loans in the past.1',\n",
       " 'Loan_history_existing loans paid back duly till now.1',\n",
       " 'Loan_history_no loans taken/all loans paid back duly.1',\n",
       " 'Has_been_employed_for_at_least_0 year',\n",
       " 'Has_been_employed_for_at_least_1 year',\n",
       " 'Has_been_employed_for_at_least_4 years',\n",
       " 'Has_been_employed_for_at_least_7 years']"
      ]
     },
     "execution_count": 5,
     "metadata": {},
     "output_type": "execute_result"
    }
   ],
   "source": [
    "column_headers = list(df_2.columns.values)\n",
    "column_headers"
   ]
  },
  {
   "cell_type": "markdown",
   "id": "ea2b42c7",
   "metadata": {},
   "source": [
    "#### Using train_test_split function from sklearn and a split ratio of 80:20"
   ]
  },
  {
   "cell_type": "code",
   "execution_count": 6,
   "id": "058fcf75",
   "metadata": {},
   "outputs": [],
   "source": [
    "y = df_2['high_risk_applicant']\n",
    "X = df_2.drop(['high_risk_applicant','Unnamed: 0'], axis = 1)\n",
    "X_train, X_test, y_train, y_test = train_test_split(X,y,test_size = 0.2, random_state = 0)"
   ]
  },
  {
   "cell_type": "markdown",
   "id": "71f96c43",
   "metadata": {},
   "source": [
    "param_grid = {\n",
    "    'max_depth': range(4,25),\n",
    "    'min_sample_leaf' : range(10,100,10),\n",
    "    'min_sample_split': range(10,100,10),\n",
    "    'criterion' : ['gini', 'entropy']    \n",
    "}\n",
    "n_folds = 5\n",
    "\n",
    "dt = DecisionTreeClassifier(random_state =np.random.randint(0,100))\n",
    "dt_grid = GridSearchCV(df,param_grid,cv = n_folds,return_train_score=True,verbose=0)\n",
    "dt_grid.fit(X_train,y_train)\n",
    "print(dt_grid.best_params_)\n",
    "\n",
    "y_pred_best=dt_grid.predict(X_train)\\\n",
    "acc = metrics.accuracy_score(y_test,y_pred_best)\n",
    "print(acc)"
   ]
  },
  {
   "cell_type": "markdown",
   "id": "09ced328",
   "metadata": {},
   "source": [
    "r_param_grid = {\n",
    "   'n_estimators' : rangee(1,1000,100),\n",
    "}\n",
    " r = RandomForestClassifier()\n",
    "    \n",
    " r_random = RandomizedSearchCV(param_distributions=rf_param_grid,\n",
    "                                estimator = rf,scoring = \"accuracy\",\n",
    "                                verbose = 0, n_iter = 100, cv =4)\n",
    "\n",
    "rf_random.fit(X_train,y_train)\n",
    "best_params = rf_random.best_params_\n",
    "print(f'best parameters: {best_params}')\n",
    "\n",
    "y_pred1 = rf_random.predict(X_test)\n",
    "print(f'Accuracy: {np.sum(y_pred1==y_test)/len(y_test)}')\n",
    "                                 \n",
    "    \n"
   ]
  },
  {
   "cell_type": "code",
   "execution_count": 7,
   "id": "bc359a65",
   "metadata": {},
   "outputs": [
    {
     "data": {
      "text/html": [
       "<style>#sk-container-id-1 {color: black;background-color: white;}#sk-container-id-1 pre{padding: 0;}#sk-container-id-1 div.sk-toggleable {background-color: white;}#sk-container-id-1 label.sk-toggleable__label {cursor: pointer;display: block;width: 100%;margin-bottom: 0;padding: 0.3em;box-sizing: border-box;text-align: center;}#sk-container-id-1 label.sk-toggleable__label-arrow:before {content: \"▸\";float: left;margin-right: 0.25em;color: #696969;}#sk-container-id-1 label.sk-toggleable__label-arrow:hover:before {color: black;}#sk-container-id-1 div.sk-estimator:hover label.sk-toggleable__label-arrow:before {color: black;}#sk-container-id-1 div.sk-toggleable__content {max-height: 0;max-width: 0;overflow: hidden;text-align: left;background-color: #f0f8ff;}#sk-container-id-1 div.sk-toggleable__content pre {margin: 0.2em;color: black;border-radius: 0.25em;background-color: #f0f8ff;}#sk-container-id-1 input.sk-toggleable__control:checked~div.sk-toggleable__content {max-height: 200px;max-width: 100%;overflow: auto;}#sk-container-id-1 input.sk-toggleable__control:checked~label.sk-toggleable__label-arrow:before {content: \"▾\";}#sk-container-id-1 div.sk-estimator input.sk-toggleable__control:checked~label.sk-toggleable__label {background-color: #d4ebff;}#sk-container-id-1 div.sk-label input.sk-toggleable__control:checked~label.sk-toggleable__label {background-color: #d4ebff;}#sk-container-id-1 input.sk-hidden--visually {border: 0;clip: rect(1px 1px 1px 1px);clip: rect(1px, 1px, 1px, 1px);height: 1px;margin: -1px;overflow: hidden;padding: 0;position: absolute;width: 1px;}#sk-container-id-1 div.sk-estimator {font-family: monospace;background-color: #f0f8ff;border: 1px dotted black;border-radius: 0.25em;box-sizing: border-box;margin-bottom: 0.5em;}#sk-container-id-1 div.sk-estimator:hover {background-color: #d4ebff;}#sk-container-id-1 div.sk-parallel-item::after {content: \"\";width: 100%;border-bottom: 1px solid gray;flex-grow: 1;}#sk-container-id-1 div.sk-label:hover label.sk-toggleable__label {background-color: #d4ebff;}#sk-container-id-1 div.sk-serial::before {content: \"\";position: absolute;border-left: 1px solid gray;box-sizing: border-box;top: 0;bottom: 0;left: 50%;z-index: 0;}#sk-container-id-1 div.sk-serial {display: flex;flex-direction: column;align-items: center;background-color: white;padding-right: 0.2em;padding-left: 0.2em;position: relative;}#sk-container-id-1 div.sk-item {position: relative;z-index: 1;}#sk-container-id-1 div.sk-parallel {display: flex;align-items: stretch;justify-content: center;background-color: white;position: relative;}#sk-container-id-1 div.sk-item::before, #sk-container-id-1 div.sk-parallel-item::before {content: \"\";position: absolute;border-left: 1px solid gray;box-sizing: border-box;top: 0;bottom: 0;left: 50%;z-index: -1;}#sk-container-id-1 div.sk-parallel-item {display: flex;flex-direction: column;z-index: 1;position: relative;background-color: white;}#sk-container-id-1 div.sk-parallel-item:first-child::after {align-self: flex-end;width: 50%;}#sk-container-id-1 div.sk-parallel-item:last-child::after {align-self: flex-start;width: 50%;}#sk-container-id-1 div.sk-parallel-item:only-child::after {width: 0;}#sk-container-id-1 div.sk-dashed-wrapped {border: 1px dashed gray;margin: 0 0.4em 0.5em 0.4em;box-sizing: border-box;padding-bottom: 0.4em;background-color: white;}#sk-container-id-1 div.sk-label label {font-family: monospace;font-weight: bold;display: inline-block;line-height: 1.2em;}#sk-container-id-1 div.sk-label-container {text-align: center;}#sk-container-id-1 div.sk-container {/* jupyter's `normalize.less` sets `[hidden] { display: none; }` but bootstrap.min.css set `[hidden] { display: none !important; }` so we also need the `!important` here to be able to override the default hidden behavior on the sphinx rendered scikit-learn.org. See: https://github.com/scikit-learn/scikit-learn/issues/21755 */display: inline-block !important;position: relative;}#sk-container-id-1 div.sk-text-repr-fallback {display: none;}</style><div id=\"sk-container-id-1\" class=\"sk-top-container\"><div class=\"sk-text-repr-fallback\"><pre>DecisionTreeClassifier(criterion=&#x27;entropy&#x27;, random_state=42)</pre><b>In a Jupyter environment, please rerun this cell to show the HTML representation or trust the notebook. <br />On GitHub, the HTML representation is unable to render, please try loading this page with nbviewer.org.</b></div><div class=\"sk-container\" hidden><div class=\"sk-item\"><div class=\"sk-estimator sk-toggleable\"><input class=\"sk-toggleable__control sk-hidden--visually\" id=\"sk-estimator-id-1\" type=\"checkbox\" checked><label for=\"sk-estimator-id-1\" class=\"sk-toggleable__label sk-toggleable__label-arrow\">DecisionTreeClassifier</label><div class=\"sk-toggleable__content\"><pre>DecisionTreeClassifier(criterion=&#x27;entropy&#x27;, random_state=42)</pre></div></div></div></div></div>"
      ],
      "text/plain": [
       "DecisionTreeClassifier(criterion='entropy', random_state=42)"
      ]
     },
     "execution_count": 7,
     "metadata": {},
     "output_type": "execute_result"
    }
   ],
   "source": [
    "DTClassifier= DecisionTreeClassifier(criterion = 'entropy', random_state=42)\n",
    "DTClassifier.fit(X_train,y_train)"
   ]
  },
  {
   "cell_type": "code",
   "execution_count": 8,
   "id": "704354f0",
   "metadata": {},
   "outputs": [
    {
     "data": {
      "text/plain": [
       "array([1, 0, 0, 0, 0, 1, 1, 0, 0, 1, 0, 0, 0, 1, 0, 0, 0, 0, 1, 0, 0, 0,\n",
       "       1, 0, 0, 1, 0, 0, 0, 0, 0, 0, 0, 0, 0, 1, 0, 0, 1, 0, 0, 0, 0, 1,\n",
       "       0, 1, 0, 0, 1, 0, 0, 0, 1, 0, 0, 0, 1, 1, 0, 0, 1, 0, 1, 1, 0, 0,\n",
       "       0, 0, 0, 0, 0, 1, 0, 1, 0, 0, 0, 0, 0, 0, 0, 0, 1, 1, 0, 0, 1, 0,\n",
       "       0, 0, 1, 0, 0, 0, 0, 0, 0, 1, 1, 0, 0, 0, 0, 0, 0, 0, 0, 0, 1, 0,\n",
       "       0, 0, 0, 0, 0, 1, 0, 1, 0, 0, 1, 0, 1, 0, 1, 0, 0, 0, 0, 1, 1, 1,\n",
       "       1, 0, 0, 0, 1, 0, 0, 1, 1, 1, 0, 1, 0, 0, 0, 0, 0, 0, 0, 0, 1, 0,\n",
       "       1, 0, 0, 0, 0, 0, 0, 0, 0, 0, 1, 1, 1, 0, 0, 0, 1, 0, 0, 0, 0, 1,\n",
       "       1, 1, 0, 0, 0, 0, 1, 0, 0, 0, 0, 0, 0, 0, 0, 1, 1, 0, 0, 0, 0, 0,\n",
       "       0, 0], dtype=int64)"
      ]
     },
     "execution_count": 8,
     "metadata": {},
     "output_type": "execute_result"
    }
   ],
   "source": [
    "y_pred =DTClassifier.predict(X_test)\n",
    "y_pred"
   ]
  },
  {
   "cell_type": "markdown",
   "id": "4354704a",
   "metadata": {},
   "source": [
    "###  Accuracy along the confusion matrix of DecisionTreeClassifier"
   ]
  },
  {
   "cell_type": "code",
   "execution_count": 9,
   "id": "073c5ff1",
   "metadata": {},
   "outputs": [
    {
     "name": "stdout",
     "output_type": "stream",
     "text": [
      "The accuracy is  0.64\n"
     ]
    }
   ],
   "source": [
    "print('The accuracy is ',metrics.accuracy_score(y_pred,y_test))"
   ]
  },
  {
   "cell_type": "code",
   "execution_count": 11,
   "id": "dd6f9fac",
   "metadata": {},
   "outputs": [
    {
     "data": {
      "text/plain": [
       "array([[108,  38],\n",
       "       [ 34,  20]], dtype=int64)"
      ]
     },
     "execution_count": 11,
     "metadata": {},
     "output_type": "execute_result"
    }
   ],
   "source": [
    "from sklearn.metrics import confusion_matrix\n",
    "confusion_matrix(y_pred,y_test)\n"
   ]
  },
  {
   "cell_type": "code",
   "execution_count": 12,
   "id": "6c8c4c25",
   "metadata": {},
   "outputs": [
    {
     "data": {
      "text/html": [
       "<style>#sk-container-id-2 {color: black;background-color: white;}#sk-container-id-2 pre{padding: 0;}#sk-container-id-2 div.sk-toggleable {background-color: white;}#sk-container-id-2 label.sk-toggleable__label {cursor: pointer;display: block;width: 100%;margin-bottom: 0;padding: 0.3em;box-sizing: border-box;text-align: center;}#sk-container-id-2 label.sk-toggleable__label-arrow:before {content: \"▸\";float: left;margin-right: 0.25em;color: #696969;}#sk-container-id-2 label.sk-toggleable__label-arrow:hover:before {color: black;}#sk-container-id-2 div.sk-estimator:hover label.sk-toggleable__label-arrow:before {color: black;}#sk-container-id-2 div.sk-toggleable__content {max-height: 0;max-width: 0;overflow: hidden;text-align: left;background-color: #f0f8ff;}#sk-container-id-2 div.sk-toggleable__content pre {margin: 0.2em;color: black;border-radius: 0.25em;background-color: #f0f8ff;}#sk-container-id-2 input.sk-toggleable__control:checked~div.sk-toggleable__content {max-height: 200px;max-width: 100%;overflow: auto;}#sk-container-id-2 input.sk-toggleable__control:checked~label.sk-toggleable__label-arrow:before {content: \"▾\";}#sk-container-id-2 div.sk-estimator input.sk-toggleable__control:checked~label.sk-toggleable__label {background-color: #d4ebff;}#sk-container-id-2 div.sk-label input.sk-toggleable__control:checked~label.sk-toggleable__label {background-color: #d4ebff;}#sk-container-id-2 input.sk-hidden--visually {border: 0;clip: rect(1px 1px 1px 1px);clip: rect(1px, 1px, 1px, 1px);height: 1px;margin: -1px;overflow: hidden;padding: 0;position: absolute;width: 1px;}#sk-container-id-2 div.sk-estimator {font-family: monospace;background-color: #f0f8ff;border: 1px dotted black;border-radius: 0.25em;box-sizing: border-box;margin-bottom: 0.5em;}#sk-container-id-2 div.sk-estimator:hover {background-color: #d4ebff;}#sk-container-id-2 div.sk-parallel-item::after {content: \"\";width: 100%;border-bottom: 1px solid gray;flex-grow: 1;}#sk-container-id-2 div.sk-label:hover label.sk-toggleable__label {background-color: #d4ebff;}#sk-container-id-2 div.sk-serial::before {content: \"\";position: absolute;border-left: 1px solid gray;box-sizing: border-box;top: 0;bottom: 0;left: 50%;z-index: 0;}#sk-container-id-2 div.sk-serial {display: flex;flex-direction: column;align-items: center;background-color: white;padding-right: 0.2em;padding-left: 0.2em;position: relative;}#sk-container-id-2 div.sk-item {position: relative;z-index: 1;}#sk-container-id-2 div.sk-parallel {display: flex;align-items: stretch;justify-content: center;background-color: white;position: relative;}#sk-container-id-2 div.sk-item::before, #sk-container-id-2 div.sk-parallel-item::before {content: \"\";position: absolute;border-left: 1px solid gray;box-sizing: border-box;top: 0;bottom: 0;left: 50%;z-index: -1;}#sk-container-id-2 div.sk-parallel-item {display: flex;flex-direction: column;z-index: 1;position: relative;background-color: white;}#sk-container-id-2 div.sk-parallel-item:first-child::after {align-self: flex-end;width: 50%;}#sk-container-id-2 div.sk-parallel-item:last-child::after {align-self: flex-start;width: 50%;}#sk-container-id-2 div.sk-parallel-item:only-child::after {width: 0;}#sk-container-id-2 div.sk-dashed-wrapped {border: 1px dashed gray;margin: 0 0.4em 0.5em 0.4em;box-sizing: border-box;padding-bottom: 0.4em;background-color: white;}#sk-container-id-2 div.sk-label label {font-family: monospace;font-weight: bold;display: inline-block;line-height: 1.2em;}#sk-container-id-2 div.sk-label-container {text-align: center;}#sk-container-id-2 div.sk-container {/* jupyter's `normalize.less` sets `[hidden] { display: none; }` but bootstrap.min.css set `[hidden] { display: none !important; }` so we also need the `!important` here to be able to override the default hidden behavior on the sphinx rendered scikit-learn.org. See: https://github.com/scikit-learn/scikit-learn/issues/21755 */display: inline-block !important;position: relative;}#sk-container-id-2 div.sk-text-repr-fallback {display: none;}</style><div id=\"sk-container-id-2\" class=\"sk-top-container\"><div class=\"sk-text-repr-fallback\"><pre>GaussianNB()</pre><b>In a Jupyter environment, please rerun this cell to show the HTML representation or trust the notebook. <br />On GitHub, the HTML representation is unable to render, please try loading this page with nbviewer.org.</b></div><div class=\"sk-container\" hidden><div class=\"sk-item\"><div class=\"sk-estimator sk-toggleable\"><input class=\"sk-toggleable__control sk-hidden--visually\" id=\"sk-estimator-id-2\" type=\"checkbox\" checked><label for=\"sk-estimator-id-2\" class=\"sk-toggleable__label sk-toggleable__label-arrow\">GaussianNB</label><div class=\"sk-toggleable__content\"><pre>GaussianNB()</pre></div></div></div></div></div>"
      ],
      "text/plain": [
       "GaussianNB()"
      ]
     },
     "execution_count": 12,
     "metadata": {},
     "output_type": "execute_result"
    }
   ],
   "source": [
    "from sklearn.naive_bayes import GaussianNB\n",
    "NBClassifier = GaussianNB()\n",
    "NBClassifier.fit(X_train,y_train)"
   ]
  },
  {
   "cell_type": "code",
   "execution_count": 13,
   "id": "c1943d54",
   "metadata": {},
   "outputs": [
    {
     "data": {
      "text/plain": [
       "array([0, 0, 0, 0, 1, 0, 1, 0, 0, 1, 1, 1, 0, 0, 1, 1, 0, 1, 1, 0, 0, 0,\n",
       "       1, 0, 0, 1, 0, 0, 0, 0, 0, 0, 0, 0, 0, 0, 0, 0, 1, 0, 0, 0, 0, 0,\n",
       "       0, 1, 0, 1, 0, 0, 0, 1, 0, 0, 0, 0, 1, 0, 0, 0, 1, 0, 0, 0, 0, 0,\n",
       "       0, 1, 1, 0, 0, 0, 1, 1, 0, 0, 0, 0, 0, 0, 0, 0, 0, 0, 0, 0, 1, 0,\n",
       "       0, 0, 1, 0, 0, 0, 0, 0, 0, 1, 1, 0, 0, 1, 1, 0, 0, 0, 1, 1, 0, 0,\n",
       "       0, 1, 1, 0, 0, 0, 0, 1, 0, 0, 0, 0, 0, 1, 0, 0, 0, 0, 0, 0, 0, 0,\n",
       "       1, 0, 0, 0, 0, 0, 0, 1, 0, 1, 1, 0, 0, 0, 0, 1, 0, 0, 0, 0, 0, 0,\n",
       "       0, 0, 0, 0, 0, 0, 0, 1, 0, 0, 0, 1, 0, 0, 0, 0, 1, 1, 1, 0, 0, 1,\n",
       "       0, 0, 0, 0, 0, 0, 0, 1, 0, 1, 0, 1, 0, 0, 0, 1, 0, 1, 0, 0, 0, 0,\n",
       "       0, 0], dtype=int64)"
      ]
     },
     "execution_count": 13,
     "metadata": {},
     "output_type": "execute_result"
    }
   ],
   "source": [
    "y_pred= NBClassifier.predict(X_test)\n",
    "y_pred"
   ]
  },
  {
   "cell_type": "markdown",
   "id": "36933243",
   "metadata": {},
   "source": [
    "###  Accuracy along the confusion matrix of Gaussian Naive Bayes  (probabilistic classification algorithm)  "
   ]
  },
  {
   "cell_type": "code",
   "execution_count": 14,
   "id": "945a083b",
   "metadata": {},
   "outputs": [
    {
     "name": "stdout",
     "output_type": "stream",
     "text": [
      "THe accuracy 0.695\n"
     ]
    }
   ],
   "source": [
    "print('THe accuracy',metrics.accuracy_score(y_pred,y_test))"
   ]
  },
  {
   "cell_type": "code",
   "execution_count": 15,
   "id": "efe00ef7",
   "metadata": {},
   "outputs": [
    {
     "data": {
      "text/plain": [
       "array([[116,  35],\n",
       "       [ 26,  23]], dtype=int64)"
      ]
     },
     "execution_count": 15,
     "metadata": {},
     "output_type": "execute_result"
    }
   ],
   "source": [
    "\n",
    "\n",
    "confusion_matrix(y_pred,y_test)"
   ]
  }
 ],
 "metadata": {
  "kernelspec": {
   "display_name": "Python 3 (ipykernel)",
   "language": "python",
   "name": "python3"
  },
  "language_info": {
   "codemirror_mode": {
    "name": "ipython",
    "version": 3
   },
   "file_extension": ".py",
   "mimetype": "text/x-python",
   "name": "python",
   "nbconvert_exporter": "python",
   "pygments_lexer": "ipython3",
   "version": "3.10.5"
  }
 },
 "nbformat": 4,
 "nbformat_minor": 5
}
